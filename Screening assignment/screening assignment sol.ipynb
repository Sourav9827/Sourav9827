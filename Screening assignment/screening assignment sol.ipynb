{
 "cells": [
  {
   "cell_type": "markdown",
   "id": "8d0b8236",
   "metadata": {},
   "source": [
    "## 1. Create a function in python to read the text file and replace specific content of the file."
   ]
  },
  {
   "cell_type": "code",
   "execution_count": 1,
   "id": "2e0809d6",
   "metadata": {},
   "outputs": [
    {
     "name": "stdout",
     "output_type": "stream",
     "text": [
      "File name: example.txt\n",
      "word to replace: placement\n",
      "Word to replace with: screening\n",
      "\n",
      " Done editing.\n"
     ]
    }
   ],
   "source": [
    "def replacestring(filename, wordtoreplace, wordtoreplacewith):\n",
    "    try:\n",
    "        file = open(filename, \"r\")\n",
    "        data = file.read()\n",
    "        data = data.replace(wordtoreplace, wordtoreplacewith)\n",
    "        file.close()\n",
    "        file = open(filename, \"w\")\n",
    "        file.write(data)\n",
    "        file.close()\n",
    "        print(\"\\n Done editing.\")\n",
    "    except Exception as e:\n",
    "        print(e)\n",
    "\n",
    "x = input(\"File name: \")\n",
    "y = input(\"word to replace: \")\n",
    "z = input(\"Word to replace with: \")\n",
    "\n",
    "replacestring(x, y, z)"
   ]
  },
  {
   "cell_type": "markdown",
   "id": "a7dbdfd3",
   "metadata": {},
   "source": [
    "## 2. Demonstrate use of abstract class, multiple inheritance and decorator in python using examples. "
   ]
  },
  {
   "cell_type": "markdown",
   "id": "b1b03c6d",
   "metadata": {},
   "source": [
    "### Abstract class:"
   ]
  },
  {
   "cell_type": "markdown",
   "id": "0912d754",
   "metadata": {},
   "source": [
    "The abstract class is where abstract methods are defined. They usually don't have a body, however abstract methods can be implemented in the abstract class. Any subclass derived from such an abstract class must still implement the abstract method. Both abstract and concrete methods can be found in an abstract class. The abstract class serves as a starting point for creating new classes. We may define a structure using the abstract class instead of properly implementing each method. Because abstract classes cannot be instantiated, it is impossible to make instances of them. If the abstract method isn't implemented in the derived class, an error will occur."
   ]
  },
  {
   "cell_type": "code",
   "execution_count": 2,
   "id": "19062733",
   "metadata": {},
   "outputs": [
    {
     "name": "stdout",
     "output_type": "stream",
     "text": [
      "I have 3 sides\n",
      "I have 4 sides\n",
      "I have 5 sides\n",
      "I have 6 sides\n"
     ]
    }
   ],
   "source": [
    "# Example:\n",
    "\n",
    "from abc import ABC, abstractmethod\n",
    "\n",
    "class Polygon(ABC):\n",
    "    @abstractmethod\n",
    "    def noofsides(self):\n",
    "        pass\n",
    "\n",
    "class Triangle(Polygon):\n",
    "    def noofsides(self):\n",
    "        print(\"I have 3 sides\")\n",
    "\n",
    "class Quadrilateral(Polygon):\n",
    "    def noofsides(self):\n",
    "        print(\"I have 4 sides\")\n",
    "\n",
    "class Pentagon(Polygon):\n",
    "    def noofsides(self):\n",
    "        print(\"I have 5 sides\")\n",
    "\n",
    "class Hexagon(Polygon):\n",
    "    def noofsides(self):\n",
    "        print(\"I have 6 sides\")\n",
    "\n",
    "R = Triangle()\n",
    "R.noofsides()\n",
    "\n",
    "K = Quadrilateral()\n",
    "K.noofsides()\n",
    "\n",
    "R = Pentagon()\n",
    "R.noofsides()\n",
    "\n",
    "K = Hexagon()\n",
    "K.noofsides()"
   ]
  },
  {
   "cell_type": "markdown",
   "id": "953f09ee",
   "metadata": {},
   "source": [
    "### Multiple inheritance:"
   ]
  },
  {
   "cell_type": "markdown",
   "id": "e9a96934",
   "metadata": {},
   "source": [
    "When a kid class is descended from or inherited from several parent classes. Multiple inheritance is the term for this. We have two parent classes/base classes and one child class that inherits both parent classes' properties under multiple inheritance. When a kid class is descended from or inherited from several parent classes. Multiple inheritance is the term for this. We have two parent classes/base classes and one child class that inherits both parent classes' properties under multiple inheritance."
   ]
  },
  {
   "cell_type": "code",
   "execution_count": 3,
   "id": "5792ae62",
   "metadata": {},
   "outputs": [
    {
     "name": "stdout",
     "output_type": "stream",
     "text": [
      "Play Games\n",
      "Appear to Exam\n",
      "Result of Sports\n",
      "Result of Exam\n"
     ]
    }
   ],
   "source": [
    "# Example:\n",
    "\n",
    "class Sports:\n",
    "    def Play(self):\n",
    "        print(\"Play Games\")\n",
    "\n",
    "    def showResult(self):\n",
    "        print(\"Result of Sports\")\n",
    "\n",
    "class Study:\n",
    "    def Exam(self):\n",
    "        print(\"Appear to Exam\")\n",
    "\n",
    "    def showResult(self):\n",
    "        print(\"Result of Exam\")\n",
    "        \n",
    "\n",
    "class Student(Sports,Study):\n",
    "    def show(self):\n",
    "        super().Play()\n",
    "        super().Exam()\n",
    "        super().showResult()\n",
    "        Study().showResult()\n",
    "    \n",
    "S=Student()\n",
    "S.show()"
   ]
  },
  {
   "cell_type": "markdown",
   "id": "562a5124",
   "metadata": {},
   "source": [
    "### Decorator:"
   ]
  },
  {
   "cell_type": "markdown",
   "id": "39eb0306",
   "metadata": {},
   "source": [
    "Decorators are extremely powerful Python functions that change the behaviour of a function without changing it permanently. It encapsulates another function and returns a callable since both functions are callable."
   ]
  },
  {
   "cell_type": "code",
   "execution_count": 4,
   "id": "89aefc25",
   "metadata": {},
   "outputs": [
    {
     "name": "stdout",
     "output_type": "stream",
     "text": [
      "hello\n",
      "pythonista\n",
      "how are you?\n"
     ]
    }
   ],
   "source": [
    "# Example:\n",
    "\n",
    "def function1(function):\n",
    "      def wrapper():\n",
    "           print(\"hello\")\n",
    "           function()\n",
    "           print(\"how are you?\")\n",
    "      return wrapper\n",
    "@function1\n",
    "def function2():\n",
    "      print(\"pythonista\")\n",
    " \n",
    "function2()"
   ]
  },
  {
   "cell_type": "code",
   "execution_count": null,
   "id": "475e1bd6",
   "metadata": {},
   "outputs": [],
   "source": []
  }
 ],
 "metadata": {
  "kernelspec": {
   "display_name": "Python 3 (ipykernel)",
   "language": "python",
   "name": "python3"
  },
  "language_info": {
   "codemirror_mode": {
    "name": "ipython",
    "version": 3
   },
   "file_extension": ".py",
   "mimetype": "text/x-python",
   "name": "python",
   "nbconvert_exporter": "python",
   "pygments_lexer": "ipython3",
   "version": "3.9.12"
  }
 },
 "nbformat": 4,
 "nbformat_minor": 5
}
